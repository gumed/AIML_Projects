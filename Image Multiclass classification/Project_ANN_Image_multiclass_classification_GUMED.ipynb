{
  "nbformat": 4,
  "nbformat_minor": 0,
  "metadata": {
    "colab": {
      "name": "Project_ANN_Image_multiclass_classification - GUMED.ipynb",
      "provenance": []
    },
    "kernelspec": {
      "display_name": "Python 3",
      "language": "python",
      "name": "python3"
    },
    "language_info": {
      "codemirror_mode": {
        "name": "ipython",
        "version": 3
      },
      "file_extension": ".py",
      "mimetype": "text/x-python",
      "name": "python",
      "nbconvert_exporter": "python",
      "pygments_lexer": "ipython3",
      "version": "3.8.8"
    }
  },
  "cells": [
    {
      "cell_type": "code",
      "metadata": {
        "colab": {
          "base_uri": "https://localhost:8080/"
        },
        "id": "8HL6Ch5ceZRY",
        "outputId": "1d2284a8-507b-49fc-8213-cb3b9da6d767"
      },
      "source": [
        "# Project ANN Alternative Project - ANN with Multiclass classification\n",
        "\n",
        "# Guillermo Medina\n",
        "\n",
        "# Mounting the drive in Google Colab to use the files\n",
        "from google.colab import drive\n",
        "drive.mount('/content/drive')\n",
        "\n",
        "# Importing the required packages and loading the .h5 type data file using the h5py package  \n",
        "import h5py\n",
        "import pandas as pd\n",
        "import numpy as np\n",
        "import seaborn as sns\n",
        "import matplotlib.pyplot as plt\n",
        "%matplotlib inline\n",
        "\n",
        "# Calling the sklearn libraries\n",
        "from sklearn.model_selection import train_test_split\n",
        "from sklearn import preprocessing\n",
        "from sklearn.decomposition import PCA\n",
        "from sklearn.metrics import accuracy_score, confusion_matrix, precision_score, recall_score, f1_score, precision_recall_curve, auc\n",
        "from sklearn.preprocessing import LabelEncoder\n",
        "from sklearn.model_selection import KFold\n",
        "from sklearn.model_selection import cross_val_score\n",
        "from sklearn.pipeline import Pipeline\n",
        "from sklearn import metrics\n",
        "\n",
        "# Calling the keras libraries\n",
        "from keras.datasets import mnist\n",
        "from keras.models import Sequential\n",
        "from keras.layers import Dense, Dropout\n",
        "from keras.utils import np_utils\n",
        "from keras.wrappers.scikit_learn import KerasClassifier\n"
      ],
      "execution_count": 1,
      "outputs": [
        {
          "output_type": "stream",
          "text": [
            "Drive already mounted at /content/drive; to attempt to forcibly remount, call drive.mount(\"/content/drive\", force_remount=True).\n"
          ],
          "name": "stdout"
        }
      ]
    },
    {
      "cell_type": "code",
      "metadata": {
        "colab": {
          "base_uri": "https://localhost:8080/",
          "height": 35
        },
        "id": "LB9fHiNOenWs",
        "outputId": "0e42b9cd-4bfd-4512-8cfc-d55e58076c58"
      },
      "source": [
        "import warnings\n",
        "# Declare tensorflow as tf\n",
        "import tensorflow as tf\n",
        "tf.__version__"
      ],
      "execution_count": 2,
      "outputs": [
        {
          "output_type": "execute_result",
          "data": {
            "application/vnd.google.colaboratory.intrinsic+json": {
              "type": "string"
            },
            "text/plain": [
              "'2.5.0'"
            ]
          },
          "metadata": {
            "tags": []
          },
          "execution_count": 2
        }
      ]
    },
    {
      "cell_type": "code",
      "metadata": {
        "id": "_RNcvya_f2wa"
      },
      "source": [
        "# Open the SVHN Single Gray file as read only\n",
        "h5f = h5py.File('/content/drive/My Drive/Colab Notebooks/SVHN_single_grey1.h5', 'r')\n",
        "# Load the training, test and validation set\n",
        "X_train = h5f['X_train'][:]\n",
        "y_train = h5f['y_train'][:]\n",
        "X_test = h5f['X_test'][:]\n",
        "y_test = h5f['y_test'][:]\n",
        "X_val = h5f['X_val'][:]\n",
        "y_val = h5f['y_val'][:]\n",
        "\n",
        "# Close this file\n",
        "h5f.close()"
      ],
      "execution_count": 3,
      "outputs": []
    },
    {
      "cell_type": "code",
      "metadata": {
        "colab": {
          "base_uri": "https://localhost:8080/"
        },
        "id": "IZCVJxBG0mVm",
        "outputId": "4a506c88-e1da-47a0-8ff0-15f012799c23"
      },
      "source": [
        "# Shape of the x train set\n",
        "X_train.shape"
      ],
      "execution_count": 4,
      "outputs": [
        {
          "output_type": "execute_result",
          "data": {
            "text/plain": [
              "(42000, 32, 32)"
            ]
          },
          "metadata": {
            "tags": []
          },
          "execution_count": 4
        }
      ]
    },
    {
      "cell_type": "code",
      "metadata": {
        "colab": {
          "base_uri": "https://localhost:8080/"
        },
        "id": "AERNbCaL0sc2",
        "outputId": "20aac795-5ed8-4a08-fa70-5e61e406881e"
      },
      "source": [
        "# shape of the y train set\n",
        "y_test.shape"
      ],
      "execution_count": 5,
      "outputs": [
        {
          "output_type": "execute_result",
          "data": {
            "text/plain": [
              "(18000,)"
            ]
          },
          "metadata": {
            "tags": []
          },
          "execution_count": 5
        }
      ]
    },
    {
      "cell_type": "code",
      "metadata": {
        "colab": {
          "base_uri": "https://localhost:8080/"
        },
        "id": "NRJROCzL0tF7",
        "outputId": "bf96f82f-f092-4bb6-c5ad-89f1cc5c35d6"
      },
      "source": [
        "# y test set array\n",
        "y_test.view()"
      ],
      "execution_count": 6,
      "outputs": [
        {
          "output_type": "execute_result",
          "data": {
            "text/plain": [
              "array([1, 7, 2, ..., 7, 9, 2], dtype=uint8)"
            ]
          },
          "metadata": {
            "tags": []
          },
          "execution_count": 6
        }
      ]
    },
    {
      "cell_type": "code",
      "metadata": {
        "id": "2-ANGp_l0tJD"
      },
      "source": [
        "# Converting the class vectors for y training data and y test data to binary class matrix with 10 classes.\n",
        "y_train = tf.keras.utils.to_categorical(y_train,num_classes=10)\n",
        "y_test = tf.keras.utils.to_categorical(y_test,num_classes=10)"
      ],
      "execution_count": 7,
      "outputs": []
    },
    {
      "cell_type": "code",
      "metadata": {
        "colab": {
          "base_uri": "https://localhost:8080/"
        },
        "id": "td_2g7dT0tMO",
        "outputId": "5bc87175-56e1-450c-9784-d03ff4bd6b6c"
      },
      "source": [
        "# The y train data set in binary\n",
        "print(y_train.shape)\n",
        "print('First 5 examples now are: ', y_train[0:5])"
      ],
      "execution_count": 8,
      "outputs": [
        {
          "output_type": "stream",
          "text": [
            "(42000, 10)\n",
            "First 5 examples now are:  [[0. 0. 1. 0. 0. 0. 0. 0. 0. 0.]\n",
            " [0. 0. 0. 0. 0. 0. 1. 0. 0. 0.]\n",
            " [0. 0. 0. 0. 0. 0. 0. 1. 0. 0.]\n",
            " [0. 0. 0. 0. 1. 0. 0. 0. 0. 0.]\n",
            " [0. 0. 0. 0. 1. 0. 0. 0. 0. 0.]]\n"
          ],
          "name": "stdout"
        }
      ]
    },
    {
      "cell_type": "code",
      "metadata": {
        "colab": {
          "base_uri": "https://localhost:8080/",
          "height": 1000
        },
        "id": "OgLPZsIz0tQB",
        "outputId": "8065cb14-56a2-48f8-dd7c-00f21c38288e"
      },
      "source": [
        "# Visualize the data. Plot the first 10 images.\n",
        "import matplotlib.pyplot as plt\n",
        "%matplotlib inline\n",
        "for i in range(10):\n",
        "    image = X_train[i]\n",
        "    plt.figure(i)\n",
        "    plt.imshow(image)"
      ],
      "execution_count": 9,
      "outputs": [
        {
          "output_type": "display_data",
          "data": {
            "image/png": "[encoded data removed]",
            "text/plain": [
              "<Figure size 432x288 with 1 Axes>"
            ]
          },
          "metadata": {
            "tags": [],
            "needs_background": "light"
          }
        },
        {
          "output_type": "display_data",
          "data": {
            "image/png": "[encoded data removed]",
            "text/plain": [
              "<Figure size 432x288 with 1 Axes>"
            ]
          },
          "metadata": {
            "tags": [],
            "needs_background": "light"
          }
        },
        {
          "output_type": "display_data",
          "data": {
            "image/png": "[encoded data removed]",
            "text/plain": [
              "<Figure size 432x288 with 1 Axes>"
            ]
          },
          "metadata": {
            "tags": [],
            "needs_background": "light"
          }
        },
        {
          "output_type": "display_data",
          "data": {
            "image/png": "[encoded data removed]",
            "text/plain": [
              "<Figure size 432x288 with 1 Axes>"
            ]
          },
          "metadata": {
            "tags": [],
            "needs_background": "light"
          }
        },
        {
          "output_type": "display_data",
          "data": {
            "image/png": "[encoded data removed]",
            "text/plain": [
              "<Figure size 432x288 with 1 Axes>"
            ]
          },
          "metadata": {
            "tags": [],
            "needs_background": "light"
          }
        },
        {
          "output_type": "display_data",
          "data": {
            "image/png": "[encoded data removed]",
            "text/plain": [
              "<Figure size 432x288 with 1 Axes>"
            ]
          },
          "metadata": {
            "tags": [],
            "needs_background": "light"
          }
        },
        {
          "output_type": "display_data",
          "data": {
            "image/png": "[encoded data removed]",
            "text/plain": [
              "<Figure size 432x288 with 1 Axes>"
            ]
          },
          "metadata": {
            "tags": [],
            "needs_background": "light"
          }
        },
        {
          "output_type": "display_data",
          "data": {
            "image/png": "[encoded data removed]",
            "text/plain": [
              "<Figure size 432x288 with 1 Axes>"
            ]
          },
          "metadata": {
            "tags": [],
            "needs_background": "light"
          }
        },
        {
          "output_type": "display_data",
          "data": {
            "image/png": "[encoded data removed]",
            "text/plain": [
              "<Figure size 432x288 with 1 Axes>"
            ]
          },
          "metadata": {
            "tags": [],
            "needs_background": "light"
          }
        },
        {
          "output_type": "display_data",
          "data": {
            "image/png": "[encoded data removed]",
            "text/plain": [
              "<Figure size 432x288 with 1 Axes>"
            ]
          },
          "metadata": {
            "tags": [],
            "needs_background": "light"
          }
        }
      ]
    },
    {
      "cell_type": "code",
      "metadata": {
        "colab": {
          "base_uri": "https://localhost:8080/"
        },
        "id": "hWcV0I-hC4hd",
        "outputId": "26bcbcdb-c660-498d-a573-5d29a6dfad37"
      },
      "source": [
        "# Value counts\n",
        "L=pd.DataFrame(y_train)\n",
        "L[0].value_counts()"
      ],
      "execution_count": 10,
      "outputs": [
        {
          "output_type": "execute_result",
          "data": {
            "text/plain": [
              "0.0    37814\n",
              "1.0     4186\n",
              "Name: 0, dtype: int64"
            ]
          },
          "metadata": {
            "tags": []
          },
          "execution_count": 10
        }
      ]
    },
    {
      "cell_type": "code",
      "metadata": {
        "id": "3bsFsUCz0tTJ"
      },
      "source": [
        "#Initialize sequential model\n",
        "model = tf.keras.models.Sequential()"
      ],
      "execution_count": 11,
      "outputs": []
    },
    {
      "cell_type": "code",
      "metadata": {
        "id": "C2HrK69004Yi"
      },
      "source": [
        "#Reshape data from 2D to 1D ->32*32 to 1024\n",
        "model.add(tf.keras.layers.Reshape((1024,),input_shape=(32,32,)))"
      ],
      "execution_count": 12,
      "outputs": []
    },
    {
      "cell_type": "code",
      "metadata": {
        "id": "Oq0miSKw04b2"
      },
      "source": [
        "#Add Dense layer which provides 10 outputs after applying softmax\n",
        "model.add(tf.keras.layers.Dense(10,activation = 'softmax'))"
      ],
      "execution_count": 13,
      "outputs": []
    },
    {
      "cell_type": "code",
      "metadata": {
        "id": "ZhXRVgBm04fX"
      },
      "source": [
        "# Compile the model\n",
        "# Optimizer as sgd, loss with Categorical crossentropy and metric parameters to measure accuracy of the compile function. \n",
        "model.compile(optimizer='adam', loss='categorical_crossentropy',  metrics = ['accuracy'])"
      ],
      "execution_count": 14,
      "outputs": []
    },
    {
      "cell_type": "code",
      "metadata": {
        "colab": {
          "base_uri": "https://localhost:8080/"
        },
        "id": "q_YLxPHV04is",
        "outputId": "49e85d66-d152-453d-d136-4af0c82834ec"
      },
      "source": [
        "# Fit the model\n",
        "model.fit(X_train, y_train,epochs=200,validation_data=(X_test,y_test),batch_size=X_train.shape[0])"
      ],
      "execution_count": 21,
      "outputs": [
        {
          "output_type": "stream",
          "text": [
            "Epoch 1/200\n",
            "1/1 [==============================] - 1s 506ms/step - loss: 30.3699 - accuracy: 0.1140 - val_loss: 30.2029 - val_accuracy: 0.1166\n",
            "Epoch 2/200\n",
            "1/1 [==============================] - 0s 360ms/step - loss: 30.1609 - accuracy: 0.1137 - val_loss: 30.0064 - val_accuracy: 0.1173\n",
            "Epoch 3/200\n",
            "1/1 [==============================] - 0s 364ms/step - loss: 29.9604 - accuracy: 0.1141 - val_loss: 29.7974 - val_accuracy: 0.1174\n",
            "Epoch 4/200\n",
            "1/1 [==============================] - 0s 363ms/step - loss: 29.7535 - accuracy: 0.1148 - val_loss: 29.6052 - val_accuracy: 0.1175\n",
            "Epoch 5/200\n",
            "1/1 [==============================] - 0s 330ms/step - loss: 29.5529 - accuracy: 0.1143 - val_loss: 29.4089 - val_accuracy: 0.1168\n",
            "Epoch 6/200\n",
            "1/1 [==============================] - 0s 351ms/step - loss: 29.3526 - accuracy: 0.1136 - val_loss: 29.2117 - val_accuracy: 0.1182\n",
            "Epoch 7/200\n",
            "1/1 [==============================] - 0s 375ms/step - loss: 29.1564 - accuracy: 0.1137 - val_loss: 29.0242 - val_accuracy: 0.1174\n",
            "Epoch 8/200\n",
            "1/1 [==============================] - 0s 359ms/step - loss: 28.9597 - accuracy: 0.1138 - val_loss: 28.8281 - val_accuracy: 0.1181\n",
            "Epoch 9/200\n",
            "1/1 [==============================] - 0s 336ms/step - loss: 28.7657 - accuracy: 0.1136 - val_loss: 28.6417 - val_accuracy: 0.1180\n",
            "Epoch 10/200\n",
            "1/1 [==============================] - 0s 371ms/step - loss: 28.5761 - accuracy: 0.1136 - val_loss: 28.4617 - val_accuracy: 0.1184\n",
            "Epoch 11/200\n",
            "1/1 [==============================] - 0s 328ms/step - loss: 28.3865 - accuracy: 0.1132 - val_loss: 28.2814 - val_accuracy: 0.1178\n",
            "Epoch 12/200\n",
            "1/1 [==============================] - 0s 361ms/step - loss: 28.2093 - accuracy: 0.1134 - val_loss: 28.1305 - val_accuracy: 0.1184\n",
            "Epoch 13/200\n",
            "1/1 [==============================] - 0s 375ms/step - loss: 28.0465 - accuracy: 0.1131 - val_loss: 28.0478 - val_accuracy: 0.1171\n",
            "Epoch 14/200\n",
            "1/1 [==============================] - 0s 337ms/step - loss: 27.9592 - accuracy: 0.1139 - val_loss: 27.8801 - val_accuracy: 0.1197\n",
            "Epoch 15/200\n",
            "1/1 [==============================] - 0s 380ms/step - loss: 27.7916 - accuracy: 0.1131 - val_loss: 27.9549 - val_accuracy: 0.1173\n",
            "Epoch 16/200\n",
            "1/1 [==============================] - 0s 360ms/step - loss: 27.8544 - accuracy: 0.1132 - val_loss: 27.4751 - val_accuracy: 0.1193\n",
            "Epoch 17/200\n",
            "1/1 [==============================] - 0s 343ms/step - loss: 27.3685 - accuracy: 0.1146 - val_loss: 27.3231 - val_accuracy: 0.1183\n",
            "Epoch 18/200\n",
            "1/1 [==============================] - 0s 369ms/step - loss: 27.2392 - accuracy: 0.1128 - val_loss: 27.7980 - val_accuracy: 0.1174\n",
            "Epoch 19/200\n",
            "1/1 [==============================] - 0s 367ms/step - loss: 27.6647 - accuracy: 0.1116 - val_loss: 27.1495 - val_accuracy: 0.1197\n",
            "Epoch 20/200\n",
            "1/1 [==============================] - 0s 368ms/step - loss: 27.0422 - accuracy: 0.1145 - val_loss: 28.2053 - val_accuracy: 0.1147\n",
            "Epoch 21/200\n",
            "1/1 [==============================] - 0s 378ms/step - loss: 28.0844 - accuracy: 0.1099 - val_loss: 31.2020 - val_accuracy: 0.1119\n",
            "Epoch 22/200\n",
            "1/1 [==============================] - 0s 341ms/step - loss: 31.0530 - accuracy: 0.1125 - val_loss: 35.4743 - val_accuracy: 0.1177\n",
            "Epoch 23/200\n",
            "1/1 [==============================] - 0s 353ms/step - loss: 35.2628 - accuracy: 0.1145 - val_loss: 37.1660 - val_accuracy: 0.1166\n",
            "Epoch 24/200\n",
            "1/1 [==============================] - 0s 365ms/step - loss: 36.6653 - accuracy: 0.1140 - val_loss: 35.0947 - val_accuracy: 0.1092\n",
            "Epoch 25/200\n",
            "1/1 [==============================] - 0s 327ms/step - loss: 34.7203 - accuracy: 0.1095 - val_loss: 39.7770 - val_accuracy: 0.1090\n",
            "Epoch 26/200\n",
            "1/1 [==============================] - 0s 368ms/step - loss: 39.7444 - accuracy: 0.1066 - val_loss: 48.9819 - val_accuracy: 0.1034\n",
            "Epoch 27/200\n",
            "1/1 [==============================] - 0s 363ms/step - loss: 48.5993 - accuracy: 0.1038 - val_loss: 51.4632 - val_accuracy: 0.1108\n",
            "Epoch 28/200\n",
            "1/1 [==============================] - 0s 373ms/step - loss: 50.6406 - accuracy: 0.1096 - val_loss: 71.7980 - val_accuracy: 0.1067\n",
            "Epoch 29/200\n",
            "1/1 [==============================] - 0s 360ms/step - loss: 71.4869 - accuracy: 0.1022 - val_loss: 76.6832 - val_accuracy: 0.1087\n",
            "Epoch 30/200\n",
            "1/1 [==============================] - 0s 346ms/step - loss: 76.1059 - accuracy: 0.1076 - val_loss: 86.3861 - val_accuracy: 0.1058\n",
            "Epoch 31/200\n",
            "1/1 [==============================] - 0s 353ms/step - loss: 85.7917 - accuracy: 0.1051 - val_loss: 89.6839 - val_accuracy: 0.1109\n",
            "Epoch 32/200\n",
            "1/1 [==============================] - 0s 361ms/step - loss: 89.2015 - accuracy: 0.1092 - val_loss: 79.0392 - val_accuracy: 0.1129\n",
            "Epoch 33/200\n",
            "1/1 [==============================] - 0s 340ms/step - loss: 78.5038 - accuracy: 0.1118 - val_loss: 61.7849 - val_accuracy: 0.1111\n",
            "Epoch 34/200\n",
            "1/1 [==============================] - 0s 341ms/step - loss: 61.3292 - accuracy: 0.1120 - val_loss: 86.1360 - val_accuracy: 0.0968\n",
            "Epoch 35/200\n",
            "1/1 [==============================] - 0s 360ms/step - loss: 85.1948 - accuracy: 0.1025 - val_loss: 72.4461 - val_accuracy: 0.1013\n",
            "Epoch 36/200\n",
            "1/1 [==============================] - 0s 341ms/step - loss: 72.1976 - accuracy: 0.0992 - val_loss: 49.8074 - val_accuracy: 0.1037\n",
            "Epoch 37/200\n",
            "1/1 [==============================] - 0s 347ms/step - loss: 49.5795 - accuracy: 0.1018 - val_loss: 63.6837 - val_accuracy: 0.1076\n",
            "Epoch 38/200\n",
            "1/1 [==============================] - 0s 363ms/step - loss: 63.7955 - accuracy: 0.1035 - val_loss: 83.5488 - val_accuracy: 0.1068\n",
            "Epoch 39/200\n",
            "1/1 [==============================] - 0s 331ms/step - loss: 83.6887 - accuracy: 0.1021 - val_loss: 86.5587 - val_accuracy: 0.1120\n",
            "Epoch 40/200\n",
            "1/1 [==============================] - 0s 358ms/step - loss: 86.1662 - accuracy: 0.1100 - val_loss: 87.8558 - val_accuracy: 0.1062\n",
            "Epoch 41/200\n",
            "1/1 [==============================] - 0s 356ms/step - loss: 87.2173 - accuracy: 0.1040 - val_loss: 90.2802 - val_accuracy: 0.1077\n",
            "Epoch 42/200\n",
            "1/1 [==============================] - 0s 342ms/step - loss: 89.3287 - accuracy: 0.1036 - val_loss: 69.1905 - val_accuracy: 0.1148\n",
            "Epoch 43/200\n",
            "1/1 [==============================] - 0s 371ms/step - loss: 67.9222 - accuracy: 0.1081 - val_loss: 72.9716 - val_accuracy: 0.1063\n",
            "Epoch 44/200\n",
            "1/1 [==============================] - 0s 362ms/step - loss: 71.2813 - accuracy: 0.1065 - val_loss: 94.4407 - val_accuracy: 0.0926\n",
            "Epoch 45/200\n",
            "1/1 [==============================] - 0s 350ms/step - loss: 92.4390 - accuracy: 0.0988 - val_loss: 85.1774 - val_accuracy: 0.1013\n",
            "Epoch 46/200\n",
            "1/1 [==============================] - 0s 367ms/step - loss: 83.4848 - accuracy: 0.1028 - val_loss: 68.5525 - val_accuracy: 0.1053\n",
            "Epoch 47/200\n",
            "1/1 [==============================] - 0s 338ms/step - loss: 67.3549 - accuracy: 0.1052 - val_loss: 64.6860 - val_accuracy: 0.1078\n",
            "Epoch 48/200\n",
            "1/1 [==============================] - 0s 341ms/step - loss: 64.2755 - accuracy: 0.1049 - val_loss: 52.4375 - val_accuracy: 0.1096\n",
            "Epoch 49/200\n",
            "1/1 [==============================] - 0s 384ms/step - loss: 52.4645 - accuracy: 0.1060 - val_loss: 72.7551 - val_accuracy: 0.1023\n",
            "Epoch 50/200\n",
            "1/1 [==============================] - 0s 377ms/step - loss: 72.7600 - accuracy: 0.1002 - val_loss: 62.0724 - val_accuracy: 0.1069\n",
            "Epoch 51/200\n",
            "1/1 [==============================] - 0s 354ms/step - loss: 61.7580 - accuracy: 0.1055 - val_loss: 70.1279 - val_accuracy: 0.1122\n",
            "Epoch 52/200\n",
            "1/1 [==============================] - 0s 372ms/step - loss: 69.3783 - accuracy: 0.1107 - val_loss: 78.0844 - val_accuracy: 0.1041\n",
            "Epoch 53/200\n",
            "1/1 [==============================] - 0s 317ms/step - loss: 76.8711 - accuracy: 0.1033 - val_loss: 85.2027 - val_accuracy: 0.0954\n",
            "Epoch 54/200\n",
            "1/1 [==============================] - 0s 343ms/step - loss: 83.7285 - accuracy: 0.1029 - val_loss: 82.9766 - val_accuracy: 0.0996\n",
            "Epoch 55/200\n",
            "1/1 [==============================] - 0s 364ms/step - loss: 81.8287 - accuracy: 0.1012 - val_loss: 63.8463 - val_accuracy: 0.1015\n",
            "Epoch 56/200\n",
            "1/1 [==============================] - 0s 359ms/step - loss: 63.0435 - accuracy: 0.1016 - val_loss: 73.4250 - val_accuracy: 0.1017\n",
            "Epoch 57/200\n",
            "1/1 [==============================] - 0s 369ms/step - loss: 72.9875 - accuracy: 0.1005 - val_loss: 70.4893 - val_accuracy: 0.1068\n",
            "Epoch 58/200\n",
            "1/1 [==============================] - 0s 351ms/step - loss: 70.4736 - accuracy: 0.1038 - val_loss: 80.1819 - val_accuracy: 0.1046\n",
            "Epoch 59/200\n",
            "1/1 [==============================] - 0s 361ms/step - loss: 80.5005 - accuracy: 0.1031 - val_loss: 83.0911 - val_accuracy: 0.1042\n",
            "Epoch 60/200\n",
            "1/1 [==============================] - 0s 374ms/step - loss: 83.4991 - accuracy: 0.1027 - val_loss: 75.3010 - val_accuracy: 0.1084\n",
            "Epoch 61/200\n",
            "1/1 [==============================] - 0s 346ms/step - loss: 75.5351 - accuracy: 0.1102 - val_loss: 84.7227 - val_accuracy: 0.1052\n",
            "Epoch 62/200\n",
            "1/1 [==============================] - 0s 381ms/step - loss: 84.4285 - accuracy: 0.1087 - val_loss: 92.0304 - val_accuracy: 0.0971\n",
            "Epoch 63/200\n",
            "1/1 [==============================] - 0s 355ms/step - loss: 91.3622 - accuracy: 0.1025 - val_loss: 69.1382 - val_accuracy: 0.1039\n",
            "Epoch 64/200\n",
            "1/1 [==============================] - 0s 334ms/step - loss: 68.8504 - accuracy: 0.1035 - val_loss: 56.3386 - val_accuracy: 0.1115\n",
            "Epoch 65/200\n",
            "1/1 [==============================] - 0s 390ms/step - loss: 56.3824 - accuracy: 0.1096 - val_loss: 52.5507 - val_accuracy: 0.1074\n",
            "Epoch 66/200\n",
            "1/1 [==============================] - 0s 338ms/step - loss: 52.7035 - accuracy: 0.1049 - val_loss: 61.0058 - val_accuracy: 0.1057\n",
            "Epoch 67/200\n",
            "1/1 [==============================] - 0s 346ms/step - loss: 61.0588 - accuracy: 0.1065 - val_loss: 48.1400 - val_accuracy: 0.1092\n",
            "Epoch 68/200\n",
            "1/1 [==============================] - 0s 361ms/step - loss: 48.3072 - accuracy: 0.1088 - val_loss: 64.7736 - val_accuracy: 0.0981\n",
            "Epoch 69/200\n",
            "1/1 [==============================] - 0s 362ms/step - loss: 64.8260 - accuracy: 0.0994 - val_loss: 51.3133 - val_accuracy: 0.1083\n",
            "Epoch 70/200\n",
            "1/1 [==============================] - 0s 360ms/step - loss: 51.6087 - accuracy: 0.1075 - val_loss: 40.6045 - val_accuracy: 0.1129\n",
            "Epoch 71/200\n",
            "1/1 [==============================] - 0s 357ms/step - loss: 40.8691 - accuracy: 0.1115 - val_loss: 42.5278 - val_accuracy: 0.1117\n",
            "Epoch 72/200\n",
            "1/1 [==============================] - 0s 351ms/step - loss: 42.5016 - accuracy: 0.1084 - val_loss: 52.2540 - val_accuracy: 0.1098\n",
            "Epoch 73/200\n",
            "1/1 [==============================] - 0s 327ms/step - loss: 51.7095 - accuracy: 0.1079 - val_loss: 56.8872 - val_accuracy: 0.1033\n",
            "Epoch 74/200\n",
            "1/1 [==============================] - 0s 337ms/step - loss: 56.2481 - accuracy: 0.1053 - val_loss: 54.5302 - val_accuracy: 0.1116\n",
            "Epoch 75/200\n",
            "1/1 [==============================] - 0s 362ms/step - loss: 54.1046 - accuracy: 0.1078 - val_loss: 55.6742 - val_accuracy: 0.1072\n",
            "Epoch 76/200\n",
            "1/1 [==============================] - 0s 348ms/step - loss: 55.3424 - accuracy: 0.1054 - val_loss: 41.2261 - val_accuracy: 0.1142\n",
            "Epoch 77/200\n",
            "1/1 [==============================] - 0s 342ms/step - loss: 41.0218 - accuracy: 0.1110 - val_loss: 42.0204 - val_accuracy: 0.1086\n",
            "Epoch 78/200\n",
            "1/1 [==============================] - 0s 345ms/step - loss: 41.8380 - accuracy: 0.1050 - val_loss: 44.6757 - val_accuracy: 0.1093\n",
            "Epoch 79/200\n",
            "1/1 [==============================] - 0s 375ms/step - loss: 44.3440 - accuracy: 0.1065 - val_loss: 39.3095 - val_accuracy: 0.1006\n",
            "Epoch 80/200\n",
            "1/1 [==============================] - 0s 350ms/step - loss: 38.9585 - accuracy: 0.0991 - val_loss: 43.9656 - val_accuracy: 0.1054\n",
            "Epoch 81/200\n",
            "1/1 [==============================] - 0s 355ms/step - loss: 43.7578 - accuracy: 0.1053 - val_loss: 46.0374 - val_accuracy: 0.1069\n",
            "Epoch 82/200\n",
            "1/1 [==============================] - 0s 349ms/step - loss: 45.8029 - accuracy: 0.1093 - val_loss: 47.2566 - val_accuracy: 0.1127\n",
            "Epoch 83/200\n",
            "1/1 [==============================] - 0s 340ms/step - loss: 47.2667 - accuracy: 0.1093 - val_loss: 45.7456 - val_accuracy: 0.1104\n",
            "Epoch 84/200\n",
            "1/1 [==============================] - 0s 343ms/step - loss: 45.6961 - accuracy: 0.1063 - val_loss: 47.1664 - val_accuracy: 0.1048\n",
            "Epoch 85/200\n",
            "1/1 [==============================] - 0s 388ms/step - loss: 47.0806 - accuracy: 0.1059 - val_loss: 49.0578 - val_accuracy: 0.1099\n",
            "Epoch 86/200\n",
            "1/1 [==============================] - 0s 346ms/step - loss: 49.0450 - accuracy: 0.1114 - val_loss: 46.5939 - val_accuracy: 0.1113\n",
            "Epoch 87/200\n",
            "1/1 [==============================] - 0s 351ms/step - loss: 46.5000 - accuracy: 0.1127 - val_loss: 46.2239 - val_accuracy: 0.1081\n",
            "Epoch 88/200\n",
            "1/1 [==============================] - 0s 344ms/step - loss: 46.0322 - accuracy: 0.1095 - val_loss: 42.0466 - val_accuracy: 0.1089\n",
            "Epoch 89/200\n",
            "1/1 [==============================] - 0s 362ms/step - loss: 41.8643 - accuracy: 0.1103 - val_loss: 37.1354 - val_accuracy: 0.1079\n",
            "Epoch 90/200\n",
            "1/1 [==============================] - 0s 371ms/step - loss: 37.1296 - accuracy: 0.1053 - val_loss: 34.1157 - val_accuracy: 0.1074\n",
            "Epoch 91/200\n",
            "1/1 [==============================] - 0s 358ms/step - loss: 33.7887 - accuracy: 0.1062 - val_loss: 47.9161 - val_accuracy: 0.1018\n",
            "Epoch 92/200\n",
            "1/1 [==============================] - 0s 345ms/step - loss: 47.3647 - accuracy: 0.1008 - val_loss: 42.2581 - val_accuracy: 0.1056\n",
            "Epoch 93/200\n",
            "1/1 [==============================] - 0s 357ms/step - loss: 41.6956 - accuracy: 0.1052 - val_loss: 40.9503 - val_accuracy: 0.1099\n",
            "Epoch 94/200\n",
            "1/1 [==============================] - 0s 332ms/step - loss: 40.4615 - accuracy: 0.1117 - val_loss: 42.2240 - val_accuracy: 0.1083\n",
            "Epoch 95/200\n",
            "1/1 [==============================] - 0s 357ms/step - loss: 41.8593 - accuracy: 0.1113 - val_loss: 36.6576 - val_accuracy: 0.1126\n",
            "Epoch 96/200\n",
            "1/1 [==============================] - 0s 370ms/step - loss: 36.4251 - accuracy: 0.1144 - val_loss: 41.0104 - val_accuracy: 0.1080\n",
            "Epoch 97/200\n",
            "1/1 [==============================] - 0s 368ms/step - loss: 40.7869 - accuracy: 0.1065 - val_loss: 38.5099 - val_accuracy: 0.1085\n",
            "Epoch 98/200\n",
            "1/1 [==============================] - 0s 354ms/step - loss: 38.4059 - accuracy: 0.1063 - val_loss: 36.8161 - val_accuracy: 0.1116\n",
            "Epoch 99/200\n",
            "1/1 [==============================] - 0s 376ms/step - loss: 36.6067 - accuracy: 0.1088 - val_loss: 36.0466 - val_accuracy: 0.1083\n",
            "Epoch 100/200\n",
            "1/1 [==============================] - 0s 337ms/step - loss: 35.4879 - accuracy: 0.1091 - val_loss: 36.8541 - val_accuracy: 0.1068\n",
            "Epoch 101/200\n",
            "1/1 [==============================] - 0s 343ms/step - loss: 36.2166 - accuracy: 0.1097 - val_loss: 39.8281 - val_accuracy: 0.1092\n",
            "Epoch 102/200\n",
            "1/1 [==============================] - 0s 336ms/step - loss: 39.3053 - accuracy: 0.1103 - val_loss: 39.1451 - val_accuracy: 0.1074\n",
            "Epoch 103/200\n",
            "1/1 [==============================] - 0s 358ms/step - loss: 38.8675 - accuracy: 0.1083 - val_loss: 29.9038 - val_accuracy: 0.1175\n",
            "Epoch 104/200\n",
            "1/1 [==============================] - 0s 360ms/step - loss: 29.4806 - accuracy: 0.1198 - val_loss: 36.9136 - val_accuracy: 0.1123\n",
            "Epoch 105/200\n",
            "1/1 [==============================] - 0s 333ms/step - loss: 36.3702 - accuracy: 0.1099 - val_loss: 32.5933 - val_accuracy: 0.1097\n",
            "Epoch 106/200\n",
            "1/1 [==============================] - 0s 344ms/step - loss: 31.9628 - accuracy: 0.1090 - val_loss: 28.0837 - val_accuracy: 0.1128\n",
            "Epoch 107/200\n",
            "1/1 [==============================] - 0s 376ms/step - loss: 27.5747 - accuracy: 0.1126 - val_loss: 32.4387 - val_accuracy: 0.1127\n",
            "Epoch 108/200\n",
            "1/1 [==============================] - 0s 338ms/step - loss: 32.1939 - accuracy: 0.1096 - val_loss: 31.3766 - val_accuracy: 0.1143\n",
            "Epoch 109/200\n",
            "1/1 [==============================] - 0s 359ms/step - loss: 31.1344 - accuracy: 0.1119 - val_loss: 24.1809 - val_accuracy: 0.1187\n",
            "Epoch 110/200\n",
            "1/1 [==============================] - 0s 366ms/step - loss: 24.0079 - accuracy: 0.1169 - val_loss: 29.5654 - val_accuracy: 0.1127\n",
            "Epoch 111/200\n",
            "1/1 [==============================] - 0s 342ms/step - loss: 29.3518 - accuracy: 0.1139 - val_loss: 31.5779 - val_accuracy: 0.1134\n",
            "Epoch 112/200\n",
            "1/1 [==============================] - 0s 363ms/step - loss: 31.1284 - accuracy: 0.1136 - val_loss: 31.7791 - val_accuracy: 0.1068\n",
            "Epoch 113/200\n",
            "1/1 [==============================] - 0s 381ms/step - loss: 31.3179 - accuracy: 0.1075 - val_loss: 27.2077 - val_accuracy: 0.1116\n",
            "Epoch 114/200\n",
            "1/1 [==============================] - 0s 349ms/step - loss: 26.8765 - accuracy: 0.1130 - val_loss: 26.2162 - val_accuracy: 0.1112\n",
            "Epoch 115/200\n",
            "1/1 [==============================] - 0s 342ms/step - loss: 25.9197 - accuracy: 0.1116 - val_loss: 29.0974 - val_accuracy: 0.1111\n",
            "Epoch 116/200\n",
            "1/1 [==============================] - 0s 374ms/step - loss: 28.9340 - accuracy: 0.1099 - val_loss: 26.4490 - val_accuracy: 0.1165\n",
            "Epoch 117/200\n",
            "1/1 [==============================] - 0s 373ms/step - loss: 26.2433 - accuracy: 0.1156 - val_loss: 25.5771 - val_accuracy: 0.1164\n",
            "Epoch 118/200\n",
            "1/1 [==============================] - 0s 369ms/step - loss: 25.2904 - accuracy: 0.1173 - val_loss: 26.9731 - val_accuracy: 0.1092\n",
            "Epoch 119/200\n",
            "1/1 [==============================] - 0s 360ms/step - loss: 26.6671 - accuracy: 0.1125 - val_loss: 26.5329 - val_accuracy: 0.1114\n",
            "Epoch 120/200\n",
            "1/1 [==============================] - 0s 347ms/step - loss: 26.1957 - accuracy: 0.1119 - val_loss: 25.4565 - val_accuracy: 0.1099\n",
            "Epoch 121/200\n",
            "1/1 [==============================] - 0s 363ms/step - loss: 25.1158 - accuracy: 0.1109 - val_loss: 25.9033 - val_accuracy: 0.1141\n",
            "Epoch 122/200\n",
            "1/1 [==============================] - 0s 337ms/step - loss: 25.6744 - accuracy: 0.1136 - val_loss: 26.4049 - val_accuracy: 0.1188\n",
            "Epoch 123/200\n",
            "1/1 [==============================] - 0s 343ms/step - loss: 26.1918 - accuracy: 0.1188 - val_loss: 26.3238 - val_accuracy: 0.1188\n",
            "Epoch 124/200\n",
            "1/1 [==============================] - 0s 355ms/step - loss: 26.1124 - accuracy: 0.1200 - val_loss: 26.4210 - val_accuracy: 0.1132\n",
            "Epoch 125/200\n",
            "1/1 [==============================] - 0s 338ms/step - loss: 26.1769 - accuracy: 0.1139 - val_loss: 24.8922 - val_accuracy: 0.1105\n",
            "Epoch 126/200\n",
            "1/1 [==============================] - 0s 349ms/step - loss: 24.5427 - accuracy: 0.1116 - val_loss: 23.4302 - val_accuracy: 0.1179\n",
            "Epoch 127/200\n",
            "1/1 [==============================] - 0s 343ms/step - loss: 23.1607 - accuracy: 0.1170 - val_loss: 27.0040 - val_accuracy: 0.1111\n",
            "Epoch 128/200\n",
            "1/1 [==============================] - 0s 350ms/step - loss: 26.7763 - accuracy: 0.1115 - val_loss: 25.0788 - val_accuracy: 0.1181\n",
            "Epoch 129/200\n",
            "1/1 [==============================] - 0s 352ms/step - loss: 24.8909 - accuracy: 0.1162 - val_loss: 25.5434 - val_accuracy: 0.1166\n",
            "Epoch 130/200\n",
            "1/1 [==============================] - 0s 344ms/step - loss: 25.3608 - accuracy: 0.1152 - val_loss: 26.0326 - val_accuracy: 0.1107\n",
            "Epoch 131/200\n",
            "1/1 [==============================] - 0s 357ms/step - loss: 25.7055 - accuracy: 0.1125 - val_loss: 27.3741 - val_accuracy: 0.1148\n",
            "Epoch 132/200\n",
            "1/1 [==============================] - 0s 352ms/step - loss: 27.1032 - accuracy: 0.1152 - val_loss: 23.1051 - val_accuracy: 0.1215\n",
            "Epoch 133/200\n",
            "1/1 [==============================] - 0s 342ms/step - loss: 22.8902 - accuracy: 0.1208 - val_loss: 22.8420 - val_accuracy: 0.1217\n",
            "Epoch 134/200\n",
            "1/1 [==============================] - 0s 328ms/step - loss: 22.6354 - accuracy: 0.1192 - val_loss: 26.6122 - val_accuracy: 0.1056\n",
            "Epoch 135/200\n",
            "1/1 [==============================] - 0s 356ms/step - loss: 26.3456 - accuracy: 0.1092 - val_loss: 22.7143 - val_accuracy: 0.1133\n",
            "Epoch 136/200\n",
            "1/1 [==============================] - 0s 358ms/step - loss: 22.4605 - accuracy: 0.1138 - val_loss: 23.1491 - val_accuracy: 0.1199\n",
            "Epoch 137/200\n",
            "1/1 [==============================] - 0s 340ms/step - loss: 22.9457 - accuracy: 0.1176 - val_loss: 24.1976 - val_accuracy: 0.1193\n",
            "Epoch 138/200\n",
            "1/1 [==============================] - 0s 354ms/step - loss: 24.0239 - accuracy: 0.1182 - val_loss: 23.0622 - val_accuracy: 0.1216\n",
            "Epoch 139/200\n",
            "1/1 [==============================] - 0s 351ms/step - loss: 22.8727 - accuracy: 0.1200 - val_loss: 22.3351 - val_accuracy: 0.1141\n",
            "Epoch 140/200\n",
            "1/1 [==============================] - 0s 361ms/step - loss: 22.1078 - accuracy: 0.1136 - val_loss: 23.0757 - val_accuracy: 0.1132\n",
            "Epoch 141/200\n",
            "1/1 [==============================] - 0s 369ms/step - loss: 22.8318 - accuracy: 0.1137 - val_loss: 22.0926 - val_accuracy: 0.1163\n",
            "Epoch 142/200\n",
            "1/1 [==============================] - 0s 350ms/step - loss: 21.8687 - accuracy: 0.1170 - val_loss: 21.1697 - val_accuracy: 0.1197\n",
            "Epoch 143/200\n",
            "1/1 [==============================] - 0s 360ms/step - loss: 20.9471 - accuracy: 0.1185 - val_loss: 22.5572 - val_accuracy: 0.1183\n",
            "Epoch 144/200\n",
            "1/1 [==============================] - 0s 371ms/step - loss: 22.3231 - accuracy: 0.1180 - val_loss: 21.5426 - val_accuracy: 0.1169\n",
            "Epoch 145/200\n",
            "1/1 [==============================] - 0s 374ms/step - loss: 21.2982 - accuracy: 0.1170 - val_loss: 21.2330 - val_accuracy: 0.1197\n",
            "Epoch 146/200\n",
            "1/1 [==============================] - 0s 389ms/step - loss: 21.0375 - accuracy: 0.1190 - val_loss: 21.8973 - val_accuracy: 0.1151\n",
            "Epoch 147/200\n",
            "1/1 [==============================] - 0s 365ms/step - loss: 21.6911 - accuracy: 0.1160 - val_loss: 20.7219 - val_accuracy: 0.1206\n",
            "Epoch 148/200\n",
            "1/1 [==============================] - 0s 332ms/step - loss: 20.4841 - accuracy: 0.1193 - val_loss: 21.6667 - val_accuracy: 0.1201\n",
            "Epoch 149/200\n",
            "1/1 [==============================] - 0s 387ms/step - loss: 21.3977 - accuracy: 0.1195 - val_loss: 21.1470 - val_accuracy: 0.1199\n",
            "Epoch 150/200\n",
            "1/1 [==============================] - 0s 328ms/step - loss: 20.9144 - accuracy: 0.1182 - val_loss: 20.9529 - val_accuracy: 0.1208\n",
            "Epoch 151/200\n",
            "1/1 [==============================] - 0s 336ms/step - loss: 20.7563 - accuracy: 0.1205 - val_loss: 20.8748 - val_accuracy: 0.1174\n",
            "Epoch 152/200\n",
            "1/1 [==============================] - 0s 357ms/step - loss: 20.6510 - accuracy: 0.1170 - val_loss: 20.7953 - val_accuracy: 0.1173\n",
            "Epoch 153/200\n",
            "1/1 [==============================] - 0s 337ms/step - loss: 20.5302 - accuracy: 0.1184 - val_loss: 20.6949 - val_accuracy: 0.1217\n",
            "Epoch 154/200\n",
            "1/1 [==============================] - 0s 381ms/step - loss: 20.4362 - accuracy: 0.1210 - val_loss: 20.7446 - val_accuracy: 0.1212\n",
            "Epoch 155/200\n",
            "1/1 [==============================] - 0s 360ms/step - loss: 20.5282 - accuracy: 0.1196 - val_loss: 20.5156 - val_accuracy: 0.1211\n",
            "Epoch 156/200\n",
            "1/1 [==============================] - 0s 334ms/step - loss: 20.3092 - accuracy: 0.1200 - val_loss: 20.3954 - val_accuracy: 0.1188\n",
            "Epoch 157/200\n",
            "1/1 [==============================] - 0s 334ms/step - loss: 20.1526 - accuracy: 0.1181 - val_loss: 20.5935 - val_accuracy: 0.1182\n",
            "Epoch 158/200\n",
            "1/1 [==============================] - 0s 383ms/step - loss: 20.3260 - accuracy: 0.1185 - val_loss: 20.1256 - val_accuracy: 0.1204\n",
            "Epoch 159/200\n",
            "1/1 [==============================] - 0s 346ms/step - loss: 19.8841 - accuracy: 0.1214 - val_loss: 20.4207 - val_accuracy: 0.1206\n",
            "Epoch 160/200\n",
            "1/1 [==============================] - 0s 356ms/step - loss: 20.1985 - accuracy: 0.1203 - val_loss: 20.0711 - val_accuracy: 0.1189\n",
            "Epoch 161/200\n",
            "1/1 [==============================] - 0s 359ms/step - loss: 19.8423 - accuracy: 0.1199 - val_loss: 20.1451 - val_accuracy: 0.1190\n",
            "Epoch 162/200\n",
            "1/1 [==============================] - 0s 337ms/step - loss: 19.8999 - accuracy: 0.1201 - val_loss: 20.0600 - val_accuracy: 0.1196\n",
            "Epoch 163/200\n",
            "1/1 [==============================] - 0s 368ms/step - loss: 19.8037 - accuracy: 0.1207 - val_loss: 19.9944 - val_accuracy: 0.1193\n",
            "Epoch 164/200\n",
            "1/1 [==============================] - 0s 354ms/step - loss: 19.7570 - accuracy: 0.1209 - val_loss: 19.9146 - val_accuracy: 0.1209\n",
            "Epoch 165/200\n",
            "1/1 [==============================] - 0s 325ms/step - loss: 19.6817 - accuracy: 0.1203 - val_loss: 19.8480 - val_accuracy: 0.1211\n",
            "Epoch 166/200\n",
            "1/1 [==============================] - 0s 350ms/step - loss: 19.6164 - accuracy: 0.1205 - val_loss: 19.8085 - val_accuracy: 0.1208\n",
            "Epoch 167/200\n",
            "1/1 [==============================] - 0s 352ms/step - loss: 19.5626 - accuracy: 0.1200 - val_loss: 19.7612 - val_accuracy: 0.1192\n",
            "Epoch 168/200\n",
            "1/1 [==============================] - 0s 347ms/step - loss: 19.5101 - accuracy: 0.1204 - val_loss: 19.6613 - val_accuracy: 0.1200\n",
            "Epoch 169/200\n",
            "1/1 [==============================] - 0s 359ms/step - loss: 19.4191 - accuracy: 0.1204 - val_loss: 19.6527 - val_accuracy: 0.1200\n",
            "Epoch 170/200\n",
            "1/1 [==============================] - 0s 365ms/step - loss: 19.4196 - accuracy: 0.1203 - val_loss: 19.5589 - val_accuracy: 0.1218\n",
            "Epoch 171/200\n",
            "1/1 [==============================] - 0s 356ms/step - loss: 19.3202 - accuracy: 0.1216 - val_loss: 19.5549 - val_accuracy: 0.1194\n",
            "Epoch 172/200\n",
            "1/1 [==============================] - 0s 326ms/step - loss: 19.3032 - accuracy: 0.1200 - val_loss: 19.4885 - val_accuracy: 0.1191\n",
            "Epoch 173/200\n",
            "1/1 [==============================] - 0s 346ms/step - loss: 19.2390 - accuracy: 0.1206 - val_loss: 19.4316 - val_accuracy: 0.1200\n",
            "Epoch 174/200\n",
            "1/1 [==============================] - 0s 370ms/step - loss: 19.1933 - accuracy: 0.1201 - val_loss: 19.3895 - val_accuracy: 0.1214\n",
            "Epoch 175/200\n",
            "1/1 [==============================] - 0s 339ms/step - loss: 19.1520 - accuracy: 0.1210 - val_loss: 19.3466 - val_accuracy: 0.1208\n",
            "Epoch 176/200\n",
            "1/1 [==============================] - 0s 349ms/step - loss: 19.0992 - accuracy: 0.1206 - val_loss: 19.2962 - val_accuracy: 0.1191\n",
            "Epoch 177/200\n",
            "1/1 [==============================] - 0s 356ms/step - loss: 19.0458 - accuracy: 0.1201 - val_loss: 19.2621 - val_accuracy: 0.1191\n",
            "Epoch 178/200\n",
            "1/1 [==============================] - 0s 341ms/step - loss: 19.0176 - accuracy: 0.1195 - val_loss: 19.1914 - val_accuracy: 0.1211\n",
            "Epoch 179/200\n",
            "1/1 [==============================] - 0s 354ms/step - loss: 18.9518 - accuracy: 0.1206 - val_loss: 19.1763 - val_accuracy: 0.1211\n",
            "Epoch 180/200\n",
            "1/1 [==============================] - 0s 362ms/step - loss: 18.9306 - accuracy: 0.1211 - val_loss: 19.1107 - val_accuracy: 0.1185\n",
            "Epoch 181/200\n",
            "1/1 [==============================] - 0s 360ms/step - loss: 18.8615 - accuracy: 0.1197 - val_loss: 19.0855 - val_accuracy: 0.1182\n",
            "Epoch 182/200\n",
            "1/1 [==============================] - 0s 350ms/step - loss: 18.8382 - accuracy: 0.1195 - val_loss: 19.0286 - val_accuracy: 0.1197\n",
            "Epoch 183/200\n",
            "1/1 [==============================] - 0s 388ms/step - loss: 18.7861 - accuracy: 0.1202 - val_loss: 18.9875 - val_accuracy: 0.1200\n",
            "Epoch 184/200\n",
            "1/1 [==============================] - 0s 344ms/step - loss: 18.7422 - accuracy: 0.1204 - val_loss: 18.9596 - val_accuracy: 0.1194\n",
            "Epoch 185/200\n",
            "1/1 [==============================] - 0s 364ms/step - loss: 18.7092 - accuracy: 0.1195 - val_loss: 18.9014 - val_accuracy: 0.1194\n",
            "Epoch 186/200\n",
            "1/1 [==============================] - 0s 362ms/step - loss: 18.6529 - accuracy: 0.1194 - val_loss: 18.8739 - val_accuracy: 0.1198\n",
            "Epoch 187/200\n",
            "1/1 [==============================] - 0s 394ms/step - loss: 18.6295 - accuracy: 0.1204 - val_loss: 18.8157 - val_accuracy: 0.1190\n",
            "Epoch 188/200\n",
            "1/1 [==============================] - 0s 392ms/step - loss: 18.5696 - accuracy: 0.1201 - val_loss: 18.8012 - val_accuracy: 0.1189\n",
            "Epoch 189/200\n",
            "1/1 [==============================] - 0s 338ms/step - loss: 18.5484 - accuracy: 0.1193 - val_loss: 18.7398 - val_accuracy: 0.1199\n",
            "Epoch 190/200\n",
            "1/1 [==============================] - 0s 360ms/step - loss: 18.4893 - accuracy: 0.1196 - val_loss: 18.7092 - val_accuracy: 0.1191\n",
            "Epoch 191/200\n",
            "1/1 [==============================] - 0s 341ms/step - loss: 18.4642 - accuracy: 0.1199 - val_loss: 18.6620 - val_accuracy: 0.1194\n",
            "Epoch 192/200\n",
            "1/1 [==============================] - 0s 333ms/step - loss: 18.4141 - accuracy: 0.1196 - val_loss: 18.6361 - val_accuracy: 0.1193\n",
            "Epoch 193/200\n",
            "1/1 [==============================] - 0s 390ms/step - loss: 18.3808 - accuracy: 0.1190 - val_loss: 18.5906 - val_accuracy: 0.1204\n",
            "Epoch 194/200\n",
            "1/1 [==============================] - 0s 378ms/step - loss: 18.3378 - accuracy: 0.1192 - val_loss: 18.5463 - val_accuracy: 0.1193\n",
            "Epoch 195/200\n",
            "1/1 [==============================] - 0s 357ms/step - loss: 18.3005 - accuracy: 0.1199 - val_loss: 18.5115 - val_accuracy: 0.1184\n",
            "Epoch 196/200\n",
            "1/1 [==============================] - 0s 378ms/step - loss: 18.2616 - accuracy: 0.1191 - val_loss: 18.4789 - val_accuracy: 0.1191\n",
            "Epoch 197/200\n",
            "1/1 [==============================] - 0s 352ms/step - loss: 18.2214 - accuracy: 0.1191 - val_loss: 18.4398 - val_accuracy: 0.1197\n",
            "Epoch 198/200\n",
            "1/1 [==============================] - 0s 325ms/step - loss: 18.1854 - accuracy: 0.1194 - val_loss: 18.3926 - val_accuracy: 0.1193\n",
            "Epoch 199/200\n",
            "1/1 [==============================] - 0s 324ms/step - loss: 18.1448 - accuracy: 0.1193 - val_loss: 18.3608 - val_accuracy: 0.1184\n",
            "Epoch 200/200\n",
            "1/1 [==============================] - 0s 324ms/step - loss: 18.1085 - accuracy: 0.1187 - val_loss: 18.3280 - val_accuracy: 0.1191\n"
          ],
          "name": "stdout"
        },
        {
          "output_type": "execute_result",
          "data": {
            "text/plain": [
              "<tensorflow.python.keras.callbacks.History at 0x7f4272ae3210>"
            ]
          },
          "metadata": {
            "tags": []
          },
          "execution_count": 21
        }
      ]
    },
    {
      "cell_type": "code",
      "metadata": {
        "colab": {
          "base_uri": "https://localhost:8080/"
        },
        "id": "OsxefVpqDFFM",
        "outputId": "4cb491bc-9328-43d1-e37a-df6d45279e78"
      },
      "source": [
        "loss, acc = model.evaluate(X_test, y_test, verbose=0)\n",
        "print('Accuracy: %.3f'  % acc)\n",
        "print('Loss: %.3f' % loss)"
      ],
      "execution_count": 22,
      "outputs": [
        {
          "output_type": "stream",
          "text": [
            "Accuracy: 0.119\n",
            "Loss: 18.328\n"
          ],
          "name": "stdout"
        }
      ]
    },
    {
      "cell_type": "code",
      "metadata": {
        "id": "ZCt15ONADmkD"
      },
      "source": [
        "y_predict = model.predict(X_test)"
      ],
      "execution_count": 23,
      "outputs": []
    },
    {
      "cell_type": "code",
      "metadata": {
        "colab": {
          "base_uri": "https://localhost:8080/"
        },
        "id": "59Hm5w6vDqRf",
        "outputId": "199e0d84-8c67-4ff5-8f31-fb16d19d28db"
      },
      "source": [
        "y_predict[0]"
      ],
      "execution_count": 24,
      "outputs": [
        {
          "output_type": "execute_result",
          "data": {
            "text/plain": [
              "array([2.6875287e-01, 1.3872325e-07, 8.9848146e-07, 7.6519129e-08,\n",
              "       8.8243417e-02, 8.1796706e-08, 1.1675789e-07, 6.4298540e-01,\n",
              "       1.6977694e-05, 4.5762980e-09], dtype=float32)"
            ]
          },
          "metadata": {
            "tags": []
          },
          "execution_count": 24
        }
      ]
    },
    {
      "cell_type": "code",
      "metadata": {
        "colab": {
          "base_uri": "https://localhost:8080/"
        },
        "id": "cgFaEstyDucT",
        "outputId": "b05e723a-7732-4333-f95f-c72200fe8975"
      },
      "source": [
        "np.argmax(y_predict[0])"
      ],
      "execution_count": 25,
      "outputs": [
        {
          "output_type": "execute_result",
          "data": {
            "text/plain": [
              "7"
            ]
          },
          "metadata": {
            "tags": []
          },
          "execution_count": 25
        }
      ]
    },
    {
      "cell_type": "code",
      "metadata": {
        "colab": {
          "base_uri": "https://localhost:8080/"
        },
        "id": "EV1UHQKg04lf",
        "outputId": "c2d22297-d9d6-4845-ced7-471dc49ea452"
      },
      "source": [
        "# Model summary\n",
        "model.summary()"
      ],
      "execution_count": 26,
      "outputs": [
        {
          "output_type": "stream",
          "text": [
            "Model: \"sequential\"\n",
            "_________________________________________________________________\n",
            "Layer (type)                 Output Shape              Param #   \n",
            "=================================================================\n",
            "reshape (Reshape)            (None, 1024)              0         \n",
            "_________________________________________________________________\n",
            "dense (Dense)                (None, 10)                10250     \n",
            "=================================================================\n",
            "Total params: 10,250\n",
            "Trainable params: 10,250\n",
            "Non-trainable params: 0\n",
            "_________________________________________________________________\n"
          ],
          "name": "stdout"
        }
      ]
    },
    {
      "cell_type": "code",
      "metadata": {
        "id": "InDS4H0L7hUe"
      },
      "source": [
        "###############################    Conclusion    #################################\n",
        "# Categorical crossentropy was used as the loss function that performed a multiclass classification task.\n",
        "# The optimized model provides the best results by giving us an improvement in accuracy\n",
        "# The 'SGD' and 'Adam' optimizers were tested. 'Adam' provided the best results. \n",
        "# Softmax was used in the output layer of our Artificial Neural Network (ANN) model to predict the multinomial probability distribution.\n",
        "# After fitting the model the loss number improved \n",
        "# More epocs were tested, yet the model stopped getting better results after 200 epocs.\n"
      ],
      "execution_count": null,
      "outputs": []
    },
    {
      "cell_type": "code",
      "metadata": {
        "id": "fslDK8sb04ow"
      },
      "source": [
        "##################################################################################"
      ],
      "execution_count": null,
      "outputs": []
    }
  ]
}